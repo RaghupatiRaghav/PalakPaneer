{
 "cells": [
  {
   "cell_type": "code",
   "execution_count": 134,
   "metadata": {},
   "outputs": [],
   "source": [
    "#importing modules\n",
    "import pandas as pd\n",
    "import numpy as np\n",
    "import warnings\n",
    "warnings.filterwarnings('ignore')\n",
    "from matplotlib import pyplot as plt\n",
    "import seaborn as sns\n",
    "from sklearn.model_selection import train_test_split\n",
    "from sklearn.ensemble import RandomForestClassifier\n",
    "import datetime\n",
    "import time\n",
    "from sklearn import metrics\n",
    "from sklearn.model_selection import GridSearchCV\n",
    "from sklearn.model_selection import RandomizedSearchCV\n",
    "import os"
   ]
  },
  {
   "cell_type": "code",
   "execution_count": 135,
   "metadata": {},
   "outputs": [
    {
     "data": {
      "text/plain": [
       "'D:\\\\Coding\\\\projects\\\\Palak_Paneer'"
      ]
     },
     "execution_count": 135,
     "metadata": {},
     "output_type": "execute_result"
    }
   ],
   "source": [
    "#Changing working directory\n",
    "os.chdir(r'D:\\Coding\\projects\\Palak_Paneer')\n",
    "os.getcwd()"
   ]
  },
  {
   "cell_type": "code",
   "execution_count": 136,
   "metadata": {},
   "outputs": [
    {
     "name": "stdout",
     "output_type": "stream",
     "text": [
      "(891, 20)\n"
     ]
    },
    {
     "data": {
      "text/html": [
       "<div>\n",
       "<style scoped>\n",
       "    .dataframe tbody tr th:only-of-type {\n",
       "        vertical-align: middle;\n",
       "    }\n",
       "\n",
       "    .dataframe tbody tr th {\n",
       "        vertical-align: top;\n",
       "    }\n",
       "\n",
       "    .dataframe thead th {\n",
       "        text-align: right;\n",
       "    }\n",
       "</style>\n",
       "<table border=\"1\" class=\"dataframe\">\n",
       "  <thead>\n",
       "    <tr style=\"text-align: right;\">\n",
       "      <th></th>\n",
       "      <th>PassengerId</th>\n",
       "      <th>Survived</th>\n",
       "      <th>Pclass</th>\n",
       "      <th>Name</th>\n",
       "      <th>Sex</th>\n",
       "      <th>Age</th>\n",
       "      <th>SibSp</th>\n",
       "      <th>Parch</th>\n",
       "      <th>Ticket</th>\n",
       "      <th>Fare</th>\n",
       "      <th>Embarked</th>\n",
       "      <th>tot_fam</th>\n",
       "      <th>female</th>\n",
       "      <th>male</th>\n",
       "      <th>C</th>\n",
       "      <th>Q</th>\n",
       "      <th>S</th>\n",
       "      <th>pclass_1</th>\n",
       "      <th>pclass_2</th>\n",
       "      <th>pclass_3</th>\n",
       "    </tr>\n",
       "  </thead>\n",
       "  <tbody>\n",
       "    <tr>\n",
       "      <th>0</th>\n",
       "      <td>1</td>\n",
       "      <td>0</td>\n",
       "      <td>3</td>\n",
       "      <td>Braund, Mr. Owen Harris</td>\n",
       "      <td>male</td>\n",
       "      <td>22.0</td>\n",
       "      <td>1</td>\n",
       "      <td>0</td>\n",
       "      <td>A/5 21171</td>\n",
       "      <td>7.2500</td>\n",
       "      <td>S</td>\n",
       "      <td>1</td>\n",
       "      <td>0</td>\n",
       "      <td>1</td>\n",
       "      <td>0</td>\n",
       "      <td>0</td>\n",
       "      <td>1</td>\n",
       "      <td>0</td>\n",
       "      <td>0</td>\n",
       "      <td>1</td>\n",
       "    </tr>\n",
       "    <tr>\n",
       "      <th>1</th>\n",
       "      <td>2</td>\n",
       "      <td>1</td>\n",
       "      <td>1</td>\n",
       "      <td>Cumings, Mrs. John Bradley (Florence Briggs Th...</td>\n",
       "      <td>female</td>\n",
       "      <td>38.0</td>\n",
       "      <td>1</td>\n",
       "      <td>0</td>\n",
       "      <td>PC 17599</td>\n",
       "      <td>71.2833</td>\n",
       "      <td>C</td>\n",
       "      <td>1</td>\n",
       "      <td>1</td>\n",
       "      <td>0</td>\n",
       "      <td>1</td>\n",
       "      <td>0</td>\n",
       "      <td>0</td>\n",
       "      <td>1</td>\n",
       "      <td>0</td>\n",
       "      <td>0</td>\n",
       "    </tr>\n",
       "    <tr>\n",
       "      <th>2</th>\n",
       "      <td>3</td>\n",
       "      <td>1</td>\n",
       "      <td>3</td>\n",
       "      <td>Heikkinen, Miss. Laina</td>\n",
       "      <td>female</td>\n",
       "      <td>26.0</td>\n",
       "      <td>0</td>\n",
       "      <td>0</td>\n",
       "      <td>STON/O2. 3101282</td>\n",
       "      <td>7.9250</td>\n",
       "      <td>S</td>\n",
       "      <td>0</td>\n",
       "      <td>1</td>\n",
       "      <td>0</td>\n",
       "      <td>0</td>\n",
       "      <td>0</td>\n",
       "      <td>1</td>\n",
       "      <td>0</td>\n",
       "      <td>0</td>\n",
       "      <td>1</td>\n",
       "    </tr>\n",
       "    <tr>\n",
       "      <th>3</th>\n",
       "      <td>4</td>\n",
       "      <td>1</td>\n",
       "      <td>1</td>\n",
       "      <td>Futrelle, Mrs. Jacques Heath (Lily May Peel)</td>\n",
       "      <td>female</td>\n",
       "      <td>35.0</td>\n",
       "      <td>1</td>\n",
       "      <td>0</td>\n",
       "      <td>113803</td>\n",
       "      <td>53.1000</td>\n",
       "      <td>S</td>\n",
       "      <td>1</td>\n",
       "      <td>1</td>\n",
       "      <td>0</td>\n",
       "      <td>0</td>\n",
       "      <td>0</td>\n",
       "      <td>1</td>\n",
       "      <td>1</td>\n",
       "      <td>0</td>\n",
       "      <td>0</td>\n",
       "    </tr>\n",
       "    <tr>\n",
       "      <th>4</th>\n",
       "      <td>5</td>\n",
       "      <td>0</td>\n",
       "      <td>3</td>\n",
       "      <td>Allen, Mr. William Henry</td>\n",
       "      <td>male</td>\n",
       "      <td>35.0</td>\n",
       "      <td>0</td>\n",
       "      <td>0</td>\n",
       "      <td>373450</td>\n",
       "      <td>8.0500</td>\n",
       "      <td>S</td>\n",
       "      <td>0</td>\n",
       "      <td>0</td>\n",
       "      <td>1</td>\n",
       "      <td>0</td>\n",
       "      <td>0</td>\n",
       "      <td>1</td>\n",
       "      <td>0</td>\n",
       "      <td>0</td>\n",
       "      <td>1</td>\n",
       "    </tr>\n",
       "  </tbody>\n",
       "</table>\n",
       "</div>"
      ],
      "text/plain": [
       "   PassengerId  Survived  Pclass  \\\n",
       "0            1         0       3   \n",
       "1            2         1       1   \n",
       "2            3         1       3   \n",
       "3            4         1       1   \n",
       "4            5         0       3   \n",
       "\n",
       "                                                Name     Sex   Age  SibSp  \\\n",
       "0                            Braund, Mr. Owen Harris    male  22.0      1   \n",
       "1  Cumings, Mrs. John Bradley (Florence Briggs Th...  female  38.0      1   \n",
       "2                             Heikkinen, Miss. Laina  female  26.0      0   \n",
       "3       Futrelle, Mrs. Jacques Heath (Lily May Peel)  female  35.0      1   \n",
       "4                           Allen, Mr. William Henry    male  35.0      0   \n",
       "\n",
       "   Parch            Ticket     Fare Embarked  tot_fam  female  male  C  Q  S  \\\n",
       "0      0         A/5 21171   7.2500        S        1       0     1  0  0  1   \n",
       "1      0          PC 17599  71.2833        C        1       1     0  1  0  0   \n",
       "2      0  STON/O2. 3101282   7.9250        S        0       1     0  0  0  1   \n",
       "3      0            113803  53.1000        S        1       1     0  0  0  1   \n",
       "4      0            373450   8.0500        S        0       0     1  0  0  1   \n",
       "\n",
       "   pclass_1  pclass_2  pclass_3  \n",
       "0         0         0         1  \n",
       "1         1         0         0  \n",
       "2         0         0         1  \n",
       "3         1         0         0  \n",
       "4         0         0         1  "
      ]
     },
     "execution_count": 136,
     "metadata": {},
     "output_type": "execute_result"
    }
   ],
   "source": [
    "#loading the final train dataset\n",
    "df_full = pd.read_csv(r\"train_datasets\\train_clean_full.csv\")\n",
    "print(df_full.shape)\n",
    "df_full.head()"
   ]
  },
  {
   "cell_type": "code",
   "execution_count": 137,
   "metadata": {},
   "outputs": [],
   "source": [
    "#making dummies for interaction effects\n",
    "df_full['fem_1'] = 0\n",
    "df_full.loc[(df_full['female']==1)&(df_full['pclass_1']==1), 'fem_1'] = 1\n",
    "\n",
    "df_full['fem_2'] = 0\n",
    "df_full.loc[(df_full['female']==1)&(df_full['pclass_2']==1), 'fem_2'] = 1\n",
    "\n",
    "df_full['fem_3'] = 0\n",
    "df_full.loc[(df_full['female']==1)&(df_full['pclass_3']==1), 'fem_3'] = 1\n",
    "\n",
    "df_full['male_1'] = 0\n",
    "df_full.loc[(df_full['male']==1)&(df_full['pclass_1']==1), 'male_1'] = 1\n",
    "\n",
    "df_full['male_2'] = 0\n",
    "df_full.loc[(df_full['male']==1)&(df_full['pclass_2']==1), 'male_2'] = 1\n",
    "\n",
    "df_full['male_3'] = 0\n",
    "df_full.loc[(df_full['male']==1)&(df_full['pclass_3']==1), 'male_3'] = 1"
   ]
  },
  {
   "cell_type": "code",
   "execution_count": 138,
   "metadata": {},
   "outputs": [
    {
     "data": {
      "text/html": [
       "<div>\n",
       "<style scoped>\n",
       "    .dataframe tbody tr th:only-of-type {\n",
       "        vertical-align: middle;\n",
       "    }\n",
       "\n",
       "    .dataframe tbody tr th {\n",
       "        vertical-align: top;\n",
       "    }\n",
       "\n",
       "    .dataframe thead th {\n",
       "        text-align: right;\n",
       "    }\n",
       "</style>\n",
       "<table border=\"1\" class=\"dataframe\">\n",
       "  <thead>\n",
       "    <tr style=\"text-align: right;\">\n",
       "      <th></th>\n",
       "      <th>Sex</th>\n",
       "      <th>Pclass</th>\n",
       "      <th>fem_1</th>\n",
       "      <th>fem_2</th>\n",
       "      <th>fem_3</th>\n",
       "      <th>male_1</th>\n",
       "      <th>male_2</th>\n",
       "      <th>male_3</th>\n",
       "    </tr>\n",
       "  </thead>\n",
       "  <tbody>\n",
       "    <tr>\n",
       "      <th>0</th>\n",
       "      <td>male</td>\n",
       "      <td>3</td>\n",
       "      <td>0</td>\n",
       "      <td>0</td>\n",
       "      <td>0</td>\n",
       "      <td>0</td>\n",
       "      <td>0</td>\n",
       "      <td>1</td>\n",
       "    </tr>\n",
       "    <tr>\n",
       "      <th>1</th>\n",
       "      <td>female</td>\n",
       "      <td>1</td>\n",
       "      <td>1</td>\n",
       "      <td>0</td>\n",
       "      <td>0</td>\n",
       "      <td>0</td>\n",
       "      <td>0</td>\n",
       "      <td>0</td>\n",
       "    </tr>\n",
       "    <tr>\n",
       "      <th>2</th>\n",
       "      <td>female</td>\n",
       "      <td>3</td>\n",
       "      <td>0</td>\n",
       "      <td>0</td>\n",
       "      <td>1</td>\n",
       "      <td>0</td>\n",
       "      <td>0</td>\n",
       "      <td>0</td>\n",
       "    </tr>\n",
       "    <tr>\n",
       "      <th>3</th>\n",
       "      <td>female</td>\n",
       "      <td>1</td>\n",
       "      <td>1</td>\n",
       "      <td>0</td>\n",
       "      <td>0</td>\n",
       "      <td>0</td>\n",
       "      <td>0</td>\n",
       "      <td>0</td>\n",
       "    </tr>\n",
       "    <tr>\n",
       "      <th>4</th>\n",
       "      <td>male</td>\n",
       "      <td>3</td>\n",
       "      <td>0</td>\n",
       "      <td>0</td>\n",
       "      <td>0</td>\n",
       "      <td>0</td>\n",
       "      <td>0</td>\n",
       "      <td>1</td>\n",
       "    </tr>\n",
       "  </tbody>\n",
       "</table>\n",
       "</div>"
      ],
      "text/plain": [
       "      Sex  Pclass  fem_1  fem_2  fem_3  male_1  male_2  male_3\n",
       "0    male       3      0      0      0       0       0       1\n",
       "1  female       1      1      0      0       0       0       0\n",
       "2  female       3      0      0      1       0       0       0\n",
       "3  female       1      1      0      0       0       0       0\n",
       "4    male       3      0      0      0       0       0       1"
      ]
     },
     "execution_count": 138,
     "metadata": {},
     "output_type": "execute_result"
    }
   ],
   "source": [
    "#QC\n",
    "df_full[['Sex', 'Pclass', 'fem_1', 'fem_2', 'fem_3', 'male_1', 'male_2', 'male_3']].head()\n",
    "#pass"
   ]
  },
  {
   "cell_type": "code",
   "execution_count": 139,
   "metadata": {},
   "outputs": [
    {
     "name": "stdout",
     "output_type": "stream",
     "text": [
      "(891, 27)\n"
     ]
    },
    {
     "data": {
      "text/html": [
       "<div>\n",
       "<style scoped>\n",
       "    .dataframe tbody tr th:only-of-type {\n",
       "        vertical-align: middle;\n",
       "    }\n",
       "\n",
       "    .dataframe tbody tr th {\n",
       "        vertical-align: top;\n",
       "    }\n",
       "\n",
       "    .dataframe thead th {\n",
       "        text-align: right;\n",
       "    }\n",
       "</style>\n",
       "<table border=\"1\" class=\"dataframe\">\n",
       "  <thead>\n",
       "    <tr style=\"text-align: right;\">\n",
       "      <th></th>\n",
       "      <th>PassengerId</th>\n",
       "      <th>Survived</th>\n",
       "      <th>Pclass</th>\n",
       "      <th>Name</th>\n",
       "      <th>Sex</th>\n",
       "      <th>Age</th>\n",
       "      <th>SibSp</th>\n",
       "      <th>Parch</th>\n",
       "      <th>Ticket</th>\n",
       "      <th>Fare</th>\n",
       "      <th>...</th>\n",
       "      <th>pclass_1</th>\n",
       "      <th>pclass_2</th>\n",
       "      <th>pclass_3</th>\n",
       "      <th>fem_1</th>\n",
       "      <th>fem_2</th>\n",
       "      <th>fem_3</th>\n",
       "      <th>male_1</th>\n",
       "      <th>male_2</th>\n",
       "      <th>male_3</th>\n",
       "      <th>interaction_QC</th>\n",
       "    </tr>\n",
       "  </thead>\n",
       "  <tbody>\n",
       "  </tbody>\n",
       "</table>\n",
       "<p>0 rows × 27 columns</p>\n",
       "</div>"
      ],
      "text/plain": [
       "Empty DataFrame\n",
       "Columns: [PassengerId, Survived, Pclass, Name, Sex, Age, SibSp, Parch, Ticket, Fare, Embarked, tot_fam, female, male, C, Q, S, pclass_1, pclass_2, pclass_3, fem_1, fem_2, fem_3, male_1, male_2, male_3, interaction_QC]\n",
       "Index: []\n",
       "\n",
       "[0 rows x 27 columns]"
      ]
     },
     "execution_count": 139,
     "metadata": {},
     "output_type": "execute_result"
    }
   ],
   "source": [
    "#QC\n",
    "df_full['interaction_QC']=df_full['fem_1'] + df_full['fem_2'] + df_full['fem_3'] + df_full['male_1'] + df_full['male_2'] + df_full['male_3']\n",
    "print(df_full[df_full['interaction_QC']==1].shape)\n",
    "df_full[df_full['interaction_QC']!=1].head()\n",
    "#pass"
   ]
  },
  {
   "cell_type": "markdown",
   "metadata": {},
   "source": [
    "#### Applying random forest"
   ]
  },
  {
   "cell_type": "code",
   "execution_count": 140,
   "metadata": {},
   "outputs": [
    {
     "name": "stdout",
     "output_type": "stream",
     "text": [
      "(891, 16)\n",
      "(891, 1)\n"
     ]
    }
   ],
   "source": [
    "#breaking down into X and y arrays, removing categorical vars - these vars(except Name) have already been made into booleans: train\n",
    "X = df_full.drop(['Survived','Name','Sex','Ticket','Embarked','Pclass','male','Parch', 'SibSp','PassengerId','interaction_QC'], axis = 1)\n",
    "y = pd.DataFrame(df_full['Survived'])\n",
    "print(X.shape)\n",
    "print(y.shape)\n",
    "#X.head()"
   ]
  },
  {
   "cell_type": "code",
   "execution_count": 141,
   "metadata": {},
   "outputs": [],
   "source": [
    "#train, dev split\n",
    "X_train, X_dev, y_train, y_dev = train_test_split(X, y, test_size=0.05)"
   ]
  },
  {
   "cell_type": "code",
   "execution_count": 105,
   "metadata": {},
   "outputs": [
    {
     "name": "stderr",
     "output_type": "stream",
     "text": [
      "\u001b[32m[I 2021-06-06 15:36:31,321]\u001b[0m A new study created in memory with name: no-name-983ff054-6c0f-402f-b69f-648109639234\u001b[0m\n",
      "\u001b[32m[I 2021-06-06 15:36:32,121]\u001b[0m Trial 0 finished with value: 0.8024691358024691 and parameters: {'classifier': 'RandomForest', 'rf_n_estimators': 178, 'rf_max_depth': 13}. Best is trial 0 with value: 0.8024691358024691.\u001b[0m\n",
      "\u001b[32m[I 2021-06-06 15:36:34,026]\u001b[0m Trial 1 finished with value: 0.8170594837261503 and parameters: {'classifier': 'RandomForest', 'rf_n_estimators': 580, 'rf_max_depth': 4}. Best is trial 1 with value: 0.8170594837261503.\u001b[0m\n",
      "\u001b[32m[I 2021-06-06 15:36:36,836]\u001b[0m Trial 2 finished with value: 0.8024691358024691 and parameters: {'classifier': 'RandomForest', 'rf_n_estimators': 742, 'rf_max_depth': 15}. Best is trial 1 with value: 0.8170594837261503.\u001b[0m\n",
      "\u001b[32m[I 2021-06-06 15:36:39,792]\u001b[0m Trial 3 finished with value: 0.8226711560044894 and parameters: {'classifier': 'RandomForest', 'rf_n_estimators': 822, 'rf_max_depth': 7}. Best is trial 3 with value: 0.8226711560044894.\u001b[0m\n",
      "\u001b[32m[I 2021-06-06 15:36:40,011]\u001b[0m Trial 4 finished with value: 0.8024691358024691 and parameters: {'classifier': 'RandomForest', 'rf_n_estimators': 44, 'rf_max_depth': 37}. Best is trial 3 with value: 0.8226711560044894.\u001b[0m\n",
      "\u001b[32m[I 2021-06-06 15:36:41,810]\u001b[0m Trial 5 finished with value: 0.8170594837261503 and parameters: {'classifier': 'RandomForest', 'rf_n_estimators': 451, 'rf_max_depth': 5}. Best is trial 3 with value: 0.8226711560044894.\u001b[0m\n",
      "\u001b[32m[I 2021-06-06 15:36:43,084]\u001b[0m Trial 6 finished with value: 0.7946127946127947 and parameters: {'classifier': 'RandomForest', 'rf_n_estimators': 282, 'rf_max_depth': 2}. Best is trial 3 with value: 0.8226711560044894.\u001b[0m\n",
      "\u001b[32m[I 2021-06-06 15:36:43,804]\u001b[0m Trial 7 finished with value: 0.7867564534231201 and parameters: {'classifier': 'RandomForest', 'rf_n_estimators': 177, 'rf_max_depth': 2}. Best is trial 3 with value: 0.8226711560044894.\u001b[0m\n",
      "\u001b[32m[I 2021-06-06 15:36:47,313]\u001b[0m Trial 8 finished with value: 0.7946127946127947 and parameters: {'classifier': 'RandomForest', 'rf_n_estimators': 967, 'rf_max_depth': 2}. Best is trial 3 with value: 0.8226711560044894.\u001b[0m\n",
      "\u001b[32m[I 2021-06-06 15:36:47,497]\u001b[0m Trial 9 finished with value: 0.7991021324354657 and parameters: {'classifier': 'RandomForest', 'rf_n_estimators': 39, 'rf_max_depth': 3}. Best is trial 3 with value: 0.8226711560044894.\u001b[0m\n",
      "\u001b[32m[I 2021-06-06 15:36:51,659]\u001b[0m Trial 10 finished with value: 0.8237934904601572 and parameters: {'classifier': 'RandomForest', 'rf_n_estimators': 937, 'rf_max_depth': 8}. Best is trial 10 with value: 0.8237934904601572.\u001b[0m\n",
      "\u001b[32m[I 2021-06-06 15:36:56,476]\u001b[0m Trial 11 finished with value: 0.8237934904601572 and parameters: {'classifier': 'RandomForest', 'rf_n_estimators': 988, 'rf_max_depth': 9}. Best is trial 10 with value: 0.8237934904601572.\u001b[0m\n",
      "\u001b[32m[I 2021-06-06 15:37:00,739]\u001b[0m Trial 12 finished with value: 0.8080808080808081 and parameters: {'classifier': 'RandomForest', 'rf_n_estimators': 949, 'rf_max_depth': 13}. Best is trial 10 with value: 0.8237934904601572.\u001b[0m\n",
      "\u001b[32m[I 2021-06-06 15:37:06,551]\u001b[0m Trial 13 finished with value: 0.8002244668911337 and parameters: {'classifier': 'RandomForest', 'rf_n_estimators': 990, 'rf_max_depth': 31}. Best is trial 10 with value: 0.8237934904601572.\u001b[0m\n",
      "\u001b[32m[I 2021-06-06 15:37:09,802]\u001b[0m Trial 14 finished with value: 0.8237934904601572 and parameters: {'classifier': 'RandomForest', 'rf_n_estimators': 782, 'rf_max_depth': 9}. Best is trial 10 with value: 0.8237934904601572.\u001b[0m\n",
      "\u001b[32m[I 2021-06-06 15:37:12,639]\u001b[0m Trial 15 finished with value: 0.8024691358024691 and parameters: {'classifier': 'RandomForest', 'rf_n_estimators': 631, 'rf_max_depth': 21}. Best is trial 10 with value: 0.8237934904601572.\u001b[0m\n",
      "\u001b[32m[I 2021-06-06 15:37:16,531]\u001b[0m Trial 16 finished with value: 0.8237934904601572 and parameters: {'classifier': 'RandomForest', 'rf_n_estimators': 868, 'rf_max_depth': 7}. Best is trial 10 with value: 0.8237934904601572.\u001b[0m\n",
      "\u001b[32m[I 2021-06-06 15:37:19,911]\u001b[0m Trial 17 finished with value: 0.8136924803591471 and parameters: {'classifier': 'RandomForest', 'rf_n_estimators': 802, 'rf_max_depth': 5}. Best is trial 10 with value: 0.8237934904601572.\u001b[0m\n",
      "\u001b[32m[I 2021-06-06 15:37:23,718]\u001b[0m Trial 18 finished with value: 0.8215488215488215 and parameters: {'classifier': 'RandomForest', 'rf_n_estimators': 731, 'rf_max_depth': 9}. Best is trial 10 with value: 0.8237934904601572.\u001b[0m\n",
      "\u001b[32m[I 2021-06-06 15:37:27,028]\u001b[0m Trial 19 finished with value: 0.797979797979798 and parameters: {'classifier': 'RandomForest', 'rf_n_estimators': 437, 'rf_max_depth': 19}. Best is trial 10 with value: 0.8237934904601572.\u001b[0m\n",
      "\u001b[32m[I 2021-06-06 15:37:31,626]\u001b[0m Trial 20 finished with value: 0.819304152637486 and parameters: {'classifier': 'RandomForest', 'rf_n_estimators': 873, 'rf_max_depth': 6}. Best is trial 10 with value: 0.8237934904601572.\u001b[0m\n",
      "\u001b[32m[I 2021-06-06 15:37:34,436]\u001b[0m Trial 21 finished with value: 0.8271604938271606 and parameters: {'classifier': 'RandomForest', 'rf_n_estimators': 662, 'rf_max_depth': 9}. Best is trial 21 with value: 0.8271604938271606.\u001b[0m\n",
      "\u001b[32m[I 2021-06-06 15:37:37,714]\u001b[0m Trial 22 finished with value: 0.8215488215488215 and parameters: {'classifier': 'RandomForest', 'rf_n_estimators': 672, 'rf_max_depth': 11}. Best is trial 21 with value: 0.8271604938271606.\u001b[0m\n",
      "\u001b[32m[I 2021-06-06 15:37:41,439]\u001b[0m Trial 23 finished with value: 0.8181818181818182 and parameters: {'classifier': 'RandomForest', 'rf_n_estimators': 886, 'rf_max_depth': 4}. Best is trial 21 with value: 0.8271604938271606.\u001b[0m\n",
      "\u001b[32m[I 2021-06-06 15:37:44,242]\u001b[0m Trial 24 finished with value: 0.8181818181818182 and parameters: {'classifier': 'RandomForest', 'rf_n_estimators': 546, 'rf_max_depth': 10}. Best is trial 21 with value: 0.8271604938271606.\u001b[0m\n",
      "\u001b[32m[I 2021-06-06 15:37:48,294]\u001b[0m Trial 25 finished with value: 0.8237934904601572 and parameters: {'classifier': 'RandomForest', 'rf_n_estimators': 882, 'rf_max_depth': 7}. Best is trial 21 with value: 0.8271604938271606.\u001b[0m\n",
      "\u001b[32m[I 2021-06-06 15:37:50,854]\u001b[0m Trial 26 finished with value: 0.7946127946127947 and parameters: {'classifier': 'RandomForest', 'rf_n_estimators': 706, 'rf_max_depth': 3}. Best is trial 21 with value: 0.8271604938271606.\u001b[0m\n",
      "\u001b[32m[I 2021-06-06 15:37:54,361]\u001b[0m Trial 27 finished with value: 0.7968574635241302 and parameters: {'classifier': 'RandomForest', 'rf_n_estimators': 795, 'rf_max_depth': 18}. Best is trial 21 with value: 0.8271604938271606.\u001b[0m\n",
      "\u001b[32m[I 2021-06-06 15:37:56,688]\u001b[0m Trial 28 finished with value: 0.8125701459034792 and parameters: {'classifier': 'RandomForest', 'rf_n_estimators': 618, 'rf_max_depth': 6}. Best is trial 21 with value: 0.8271604938271606.\u001b[0m\n",
      "\u001b[32m[I 2021-06-06 15:37:58,599]\u001b[0m Trial 29 finished with value: 0.8159371492704826 and parameters: {'classifier': 'RandomForest', 'rf_n_estimators': 461, 'rf_max_depth': 12}. Best is trial 21 with value: 0.8271604938271606.\u001b[0m\n",
      "\u001b[32m[I 2021-06-06 15:38:01,880]\u001b[0m Trial 30 finished with value: 0.8013468013468014 and parameters: {'classifier': 'RandomForest', 'rf_n_estimators': 769, 'rf_max_depth': 15}. Best is trial 21 with value: 0.8271604938271606.\u001b[0m\n",
      "\u001b[32m[I 2021-06-06 15:38:05,181]\u001b[0m Trial 31 finished with value: 0.8215488215488215 and parameters: {'classifier': 'RandomForest', 'rf_n_estimators': 854, 'rf_max_depth': 7}. Best is trial 21 with value: 0.8271604938271606.\u001b[0m\n",
      "\u001b[32m[I 2021-06-06 15:38:08,876]\u001b[0m Trial 32 finished with value: 0.8226711560044894 and parameters: {'classifier': 'RandomForest', 'rf_n_estimators': 914, 'rf_max_depth': 9}. Best is trial 21 with value: 0.8271604938271606.\u001b[0m\n",
      "\u001b[32m[I 2021-06-06 15:38:11,303]\u001b[0m Trial 33 finished with value: 0.8170594837261503 and parameters: {'classifier': 'RandomForest', 'rf_n_estimators': 659, 'rf_max_depth': 5}. Best is trial 21 with value: 0.8271604938271606.\u001b[0m\n",
      "\u001b[32m[I 2021-06-06 15:38:15,092]\u001b[0m Trial 34 finished with value: 0.819304152637486 and parameters: {'classifier': 'RandomForest', 'rf_n_estimators': 926, 'rf_max_depth': 8}. Best is trial 21 with value: 0.8271604938271606.\u001b[0m\n",
      "\u001b[32m[I 2021-06-06 15:38:17,453]\u001b[0m Trial 35 finished with value: 0.8193041526374859 and parameters: {'classifier': 'RandomForest', 'rf_n_estimators': 576, 'rf_max_depth': 7}. Best is trial 21 with value: 0.8271604938271606.\u001b[0m\n",
      "\u001b[32m[I 2021-06-06 15:38:20,559]\u001b[0m Trial 36 finished with value: 0.8170594837261503 and parameters: {'classifier': 'RandomForest', 'rf_n_estimators': 831, 'rf_max_depth': 4}. Best is trial 21 with value: 0.8271604938271606.\u001b[0m\n",
      "\u001b[32m[I 2021-06-06 15:38:23,549]\u001b[0m Trial 37 finished with value: 0.8024691358024691 and parameters: {'classifier': 'RandomForest', 'rf_n_estimators': 733, 'rf_max_depth': 14}. Best is trial 21 with value: 0.8271604938271606.\u001b[0m\n",
      "\u001b[32m[I 2021-06-06 15:38:27,313]\u001b[0m Trial 38 finished with value: 0.8148148148148149 and parameters: {'classifier': 'RandomForest', 'rf_n_estimators': 1000, 'rf_max_depth': 6}. Best is trial 21 with value: 0.8271604938271606.\u001b[0m\n",
      "\u001b[32m[I 2021-06-06 15:38:29,392]\u001b[0m Trial 39 finished with value: 0.8148148148148149 and parameters: {'classifier': 'RandomForest', 'rf_n_estimators': 519, 'rf_max_depth': 11}. Best is trial 21 with value: 0.8271604938271606.\u001b[0m\n",
      "\u001b[32m[I 2021-06-06 15:38:32,545]\u001b[0m Trial 40 finished with value: 0.7946127946127947 and parameters: {'classifier': 'RandomForest', 'rf_n_estimators': 757, 'rf_max_depth': 25}. Best is trial 21 with value: 0.8271604938271606.\u001b[0m\n",
      "\u001b[32m[I 2021-06-06 15:38:35,959]\u001b[0m Trial 41 finished with value: 0.8215488215488215 and parameters: {'classifier': 'RandomForest', 'rf_n_estimators': 838, 'rf_max_depth': 10}. Best is trial 21 with value: 0.8271604938271606.\u001b[0m\n",
      "\u001b[32m[I 2021-06-06 15:38:40,305]\u001b[0m Trial 42 finished with value: 0.8215488215488215 and parameters: {'classifier': 'RandomForest', 'rf_n_estimators': 997, 'rf_max_depth': 8}. Best is trial 21 with value: 0.8271604938271606.\u001b[0m\n",
      "\u001b[32m[I 2021-06-06 15:38:43,923]\u001b[0m Trial 43 finished with value: 0.8204264870931537 and parameters: {'classifier': 'RandomForest', 'rf_n_estimators': 908, 'rf_max_depth': 7}. Best is trial 21 with value: 0.8271604938271606.\u001b[0m\n",
      "\u001b[32m[I 2021-06-06 15:38:47,522]\u001b[0m Trial 44 finished with value: 0.8159371492704826 and parameters: {'classifier': 'RandomForest', 'rf_n_estimators': 960, 'rf_max_depth': 6}. Best is trial 21 with value: 0.8271604938271606.\u001b[0m\n",
      "\u001b[32m[I 2021-06-06 15:38:50,655]\u001b[0m Trial 45 finished with value: 0.819304152637486 and parameters: {'classifier': 'RandomForest', 'rf_n_estimators': 800, 'rf_max_depth': 9}. Best is trial 21 with value: 0.8271604938271606.\u001b[0m\n",
      "\u001b[32m[I 2021-06-06 15:38:53,634]\u001b[0m Trial 46 finished with value: 0.797979797979798 and parameters: {'classifier': 'RandomForest', 'rf_n_estimators': 705, 'rf_max_depth': 16}. Best is trial 21 with value: 0.8271604938271606.\u001b[0m\n",
      "\u001b[32m[I 2021-06-06 15:38:56,818]\u001b[0m Trial 47 finished with value: 0.8159371492704826 and parameters: {'classifier': 'RandomForest', 'rf_n_estimators': 873, 'rf_max_depth': 5}. Best is trial 21 with value: 0.8271604938271606.\u001b[0m\n",
      "\u001b[32m[I 2021-06-06 15:39:00,626]\u001b[0m Trial 48 finished with value: 0.8069584736251403 and parameters: {'classifier': 'RandomForest', 'rf_n_estimators': 950, 'rf_max_depth': 13}. Best is trial 21 with value: 0.8271604938271606.\u001b[0m\n",
      "\u001b[32m[I 2021-06-06 15:39:01,771]\u001b[0m Trial 49 finished with value: 0.8159371492704826 and parameters: {'classifier': 'RandomForest', 'rf_n_estimators': 306, 'rf_max_depth': 4}. Best is trial 21 with value: 0.8271604938271606.\u001b[0m\n",
      "\u001b[32m[I 2021-06-06 15:39:04,963]\u001b[0m Trial 50 finished with value: 0.8260381593714928 and parameters: {'classifier': 'RandomForest', 'rf_n_estimators': 805, 'rf_max_depth': 10}. Best is trial 21 with value: 0.8271604938271606.\u001b[0m\n",
      "\u001b[32m[I 2021-06-06 15:39:07,950]\u001b[0m Trial 51 finished with value: 0.8204264870931537 and parameters: {'classifier': 'RandomForest', 'rf_n_estimators': 787, 'rf_max_depth': 8}. Best is trial 21 with value: 0.8271604938271606.\u001b[0m\n",
      "\u001b[32m[I 2021-06-06 15:39:11,549]\u001b[0m Trial 52 finished with value: 0.8181818181818182 and parameters: {'classifier': 'RandomForest', 'rf_n_estimators': 913, 'rf_max_depth': 11}. Best is trial 21 with value: 0.8271604938271606.\u001b[0m\n",
      "\u001b[32m[I 2021-06-06 15:39:14,891]\u001b[0m Trial 53 finished with value: 0.8215488215488215 and parameters: {'classifier': 'RandomForest', 'rf_n_estimators': 841, 'rf_max_depth': 10}. Best is trial 21 with value: 0.8271604938271606.\u001b[0m\n",
      "\u001b[32m[I 2021-06-06 15:39:18,623]\u001b[0m Trial 54 finished with value: 0.8170594837261506 and parameters: {'classifier': 'RandomForest', 'rf_n_estimators': 997, 'rf_max_depth': 7}. Best is trial 21 with value: 0.8271604938271606.\u001b[0m\n",
      "\u001b[32m[I 2021-06-06 15:39:22,260]\u001b[0m Trial 55 finished with value: 0.8125701459034792 and parameters: {'classifier': 'RandomForest', 'rf_n_estimators': 959, 'rf_max_depth': 6}. Best is trial 21 with value: 0.8271604938271606.\u001b[0m\n",
      "\u001b[32m[I 2021-06-06 15:39:25,159]\u001b[0m Trial 56 finished with value: 0.8204264870931537 and parameters: {'classifier': 'RandomForest', 'rf_n_estimators': 689, 'rf_max_depth': 9}. Best is trial 21 with value: 0.8271604938271606.\u001b[0m\n",
      "\u001b[32m[I 2021-06-06 15:39:28,296]\u001b[0m Trial 57 finished with value: 0.8069584736251403 and parameters: {'classifier': 'RandomForest', 'rf_n_estimators': 750, 'rf_max_depth': 13}. Best is trial 21 with value: 0.8271604938271606.\u001b[0m\n",
      "\u001b[32m[I 2021-06-06 15:39:30,625]\u001b[0m Trial 58 finished with value: 0.8159371492704826 and parameters: {'classifier': 'RandomForest', 'rf_n_estimators': 628, 'rf_max_depth': 5}. Best is trial 21 with value: 0.8271604938271606.\u001b[0m\n",
      "\u001b[32m[I 2021-06-06 15:39:33,446]\u001b[0m Trial 59 finished with value: 0.7890011223344556 and parameters: {'classifier': 'RandomForest', 'rf_n_estimators': 806, 'rf_max_depth': 3}. Best is trial 21 with value: 0.8271604938271606.\u001b[0m\n",
      "\u001b[32m[I 2021-06-06 15:39:36,823]\u001b[0m Trial 60 finished with value: 0.8181818181818182 and parameters: {'classifier': 'RandomForest', 'rf_n_estimators': 881, 'rf_max_depth': 8}. Best is trial 21 with value: 0.8271604938271606.\u001b[0m\n",
      "\u001b[32m[I 2021-06-06 15:39:40,188]\u001b[0m Trial 61 finished with value: 0.8249158249158249 and parameters: {'classifier': 'RandomForest', 'rf_n_estimators': 865, 'rf_max_depth': 10}. Best is trial 21 with value: 0.8271604938271606.\u001b[0m\n",
      "\u001b[32m[I 2021-06-06 15:39:44,193]\u001b[0m Trial 62 finished with value: 0.8114478114478114 and parameters: {'classifier': 'RandomForest', 'rf_n_estimators': 924, 'rf_max_depth': 12}. Best is trial 21 with value: 0.8271604938271606.\u001b[0m\n",
      "\u001b[32m[I 2021-06-06 15:39:47,728]\u001b[0m Trial 63 finished with value: 0.8215488215488215 and parameters: {'classifier': 'RandomForest', 'rf_n_estimators': 871, 'rf_max_depth': 7}. Best is trial 21 with value: 0.8271604938271606.\u001b[0m\n",
      "\u001b[32m[I 2021-06-06 15:39:51,061]\u001b[0m Trial 64 finished with value: 0.8237934904601572 and parameters: {'classifier': 'RandomForest', 'rf_n_estimators': 831, 'rf_max_depth': 10}. Best is trial 21 with value: 0.8271604938271606.\u001b[0m\n",
      "\u001b[32m[I 2021-06-06 15:39:54,438]\u001b[0m Trial 65 finished with value: 0.8237934904601572 and parameters: {'classifier': 'RandomForest', 'rf_n_estimators': 821, 'rf_max_depth': 9}. Best is trial 21 with value: 0.8271604938271606.\u001b[0m\n",
      "\u001b[32m[I 2021-06-06 15:39:57,899]\u001b[0m Trial 66 finished with value: 0.8215488215488215 and parameters: {'classifier': 'RandomForest', 'rf_n_estimators': 826, 'rf_max_depth': 10}. Best is trial 21 with value: 0.8271604938271606.\u001b[0m\n",
      "\u001b[32m[I 2021-06-06 15:40:01,033]\u001b[0m Trial 67 finished with value: 0.8181818181818182 and parameters: {'classifier': 'RandomForest', 'rf_n_estimators': 724, 'rf_max_depth': 11}. Best is trial 21 with value: 0.8271604938271606.\u001b[0m\n",
      "\u001b[32m[I 2021-06-06 15:40:03,782]\u001b[0m Trial 68 finished with value: 0.8002244668911337 and parameters: {'classifier': 'RandomForest', 'rf_n_estimators': 665, 'rf_max_depth': 15}. Best is trial 21 with value: 0.8271604938271606.\u001b[0m\n",
      "\u001b[32m[I 2021-06-06 15:40:07,085]\u001b[0m Trial 69 finished with value: 0.8226711560044894 and parameters: {'classifier': 'RandomForest', 'rf_n_estimators': 763, 'rf_max_depth': 9}. Best is trial 21 with value: 0.8271604938271606.\u001b[0m\n",
      "\u001b[32m[I 2021-06-06 15:40:11,155]\u001b[0m Trial 70 finished with value: 0.8103254769921436 and parameters: {'classifier': 'RandomForest', 'rf_n_estimators': 979, 'rf_max_depth': 12}. Best is trial 21 with value: 0.8271604938271606.\u001b[0m\n",
      "\u001b[32m[I 2021-06-06 15:40:14,795]\u001b[0m Trial 71 finished with value: 0.8260381593714928 and parameters: {'classifier': 'RandomForest', 'rf_n_estimators': 895, 'rf_max_depth': 8}. Best is trial 21 with value: 0.8271604938271606.\u001b[0m\n",
      "\u001b[32m[I 2021-06-06 15:40:18,391]\u001b[0m Trial 72 finished with value: 0.8226711560044894 and parameters: {'classifier': 'RandomForest', 'rf_n_estimators': 891, 'rf_max_depth': 8}. Best is trial 21 with value: 0.8271604938271606.\u001b[0m\n",
      "\u001b[32m[I 2021-06-06 15:40:21,535]\u001b[0m Trial 73 finished with value: 0.8215488215488215 and parameters: {'classifier': 'RandomForest', 'rf_n_estimators': 772, 'rf_max_depth': 10}. Best is trial 21 with value: 0.8271604938271606.\u001b[0m\n",
      "\u001b[32m[I 2021-06-06 15:40:25,429]\u001b[0m Trial 74 finished with value: 0.8204264870931538 and parameters: {'classifier': 'RandomForest', 'rf_n_estimators': 936, 'rf_max_depth': 9}. Best is trial 21 with value: 0.8271604938271606.\u001b[0m\n",
      "\u001b[32m[I 2021-06-06 15:40:28,757]\u001b[0m Trial 75 finished with value: 0.8215488215488215 and parameters: {'classifier': 'RandomForest', 'rf_n_estimators': 869, 'rf_max_depth': 7}. Best is trial 21 with value: 0.8271604938271606.\u001b[0m\n",
      "\u001b[32m[I 2021-06-06 15:40:32,000]\u001b[0m Trial 76 finished with value: 0.8103254769921436 and parameters: {'classifier': 'RandomForest', 'rf_n_estimators': 807, 'rf_max_depth': 6}. Best is trial 21 with value: 0.8271604938271606.\u001b[0m\n",
      "\u001b[32m[I 2021-06-06 15:40:35,788]\u001b[0m Trial 77 finished with value: 0.8204264870931537 and parameters: {'classifier': 'RandomForest', 'rf_n_estimators': 848, 'rf_max_depth': 7}. Best is trial 21 with value: 0.8271604938271606.\u001b[0m\n",
      "\u001b[32m[I 2021-06-06 15:40:39,105]\u001b[0m Trial 78 finished with value: 0.8136924803591471 and parameters: {'classifier': 'RandomForest', 'rf_n_estimators': 893, 'rf_max_depth': 5}. Best is trial 21 with value: 0.8271604938271606.\u001b[0m\n",
      "\u001b[32m[I 2021-06-06 15:40:42,319]\u001b[0m Trial 79 finished with value: 0.8215488215488215 and parameters: {'classifier': 'RandomForest', 'rf_n_estimators': 815, 'rf_max_depth': 8}. Best is trial 21 with value: 0.8271604938271606.\u001b[0m\n",
      "\u001b[32m[I 2021-06-06 15:40:45,065]\u001b[0m Trial 80 finished with value: 0.8114478114478114 and parameters: {'classifier': 'RandomForest', 'rf_n_estimators': 725, 'rf_max_depth': 5}. Best is trial 21 with value: 0.8271604938271606.\u001b[0m\n",
      "\u001b[32m[I 2021-06-06 15:40:48,105]\u001b[0m Trial 81 finished with value: 0.7946127946127947 and parameters: {'classifier': 'RandomForest', 'rf_n_estimators': 787, 'rf_max_depth': 2}. Best is trial 21 with value: 0.8271604938271606.\u001b[0m\n",
      "\u001b[32m[I 2021-06-06 15:40:51,896]\u001b[0m Trial 82 finished with value: 0.8125701459034792 and parameters: {'classifier': 'RandomForest', 'rf_n_estimators': 941, 'rf_max_depth': 6}. Best is trial 21 with value: 0.8271604938271606.\u001b[0m\n",
      "\u001b[32m[I 2021-06-06 15:40:54,369]\u001b[0m Trial 83 finished with value: 0.8103254769921436 and parameters: {'classifier': 'RandomForest', 'rf_n_estimators': 600, 'rf_max_depth': 6}. Best is trial 21 with value: 0.8271604938271606.\u001b[0m\n",
      "\u001b[32m[I 2021-06-06 15:41:00,945]\u001b[0m Trial 84 finished with value: 0.8215488215488215 and parameters: {'classifier': 'RandomForest', 'rf_n_estimators': 857, 'rf_max_depth': 7}. Best is trial 21 with value: 0.8271604938271606.\u001b[0m\n",
      "\u001b[32m[I 2021-06-06 15:41:08,076]\u001b[0m Trial 85 finished with value: 0.819304152637486 and parameters: {'classifier': 'RandomForest', 'rf_n_estimators': 972, 'rf_max_depth': 10}. Best is trial 21 with value: 0.8271604938271606.\u001b[0m\n",
      "\u001b[32m[I 2021-06-06 15:41:12,490]\u001b[0m Trial 86 finished with value: 0.819304152637486 and parameters: {'classifier': 'RandomForest', 'rf_n_estimators': 901, 'rf_max_depth': 9}. Best is trial 21 with value: 0.8271604938271606.\u001b[0m\n",
      "\u001b[32m[I 2021-06-06 15:41:12,870]\u001b[0m Trial 87 finished with value: 0.8159371492704827 and parameters: {'classifier': 'RandomForest', 'rf_n_estimators': 73, 'rf_max_depth': 11}. Best is trial 21 with value: 0.8271604938271606.\u001b[0m\n",
      "\u001b[32m[I 2021-06-06 15:41:18,772]\u001b[0m Trial 88 finished with value: 0.8125701459034792 and parameters: {'classifier': 'RandomForest', 'rf_n_estimators': 923, 'rf_max_depth': 5}. Best is trial 21 with value: 0.8271604938271606.\u001b[0m\n",
      "\u001b[32m[I 2021-06-06 15:41:22,937]\u001b[0m Trial 89 finished with value: 0.8125701459034792 and parameters: {'classifier': 'RandomForest', 'rf_n_estimators': 780, 'rf_max_depth': 5}. Best is trial 21 with value: 0.8271604938271606.\u001b[0m\n",
      "\u001b[32m[I 2021-06-06 15:41:28,320]\u001b[0m Trial 90 finished with value: 0.8237934904601572 and parameters: {'classifier': 'RandomForest', 'rf_n_estimators': 834, 'rf_max_depth': 8}. Best is trial 21 with value: 0.8271604938271606.\u001b[0m\n",
      "\u001b[32m[I 2021-06-06 15:41:32,110]\u001b[0m Trial 91 finished with value: 0.8181818181818182 and parameters: {'classifier': 'RandomForest', 'rf_n_estimators': 827, 'rf_max_depth': 7}. Best is trial 21 with value: 0.8271604938271606.\u001b[0m\n",
      "\u001b[32m[I 2021-06-06 15:41:37,600]\u001b[0m Trial 92 finished with value: 0.8148148148148149 and parameters: {'classifier': 'RandomForest', 'rf_n_estimators': 839, 'rf_max_depth': 6}. Best is trial 21 with value: 0.8271604938271606.\u001b[0m\n",
      "\u001b[32m[I 2021-06-06 15:41:43,100]\u001b[0m Trial 93 finished with value: 0.8170594837261503 and parameters: {'classifier': 'RandomForest', 'rf_n_estimators': 860, 'rf_max_depth': 6}. Best is trial 21 with value: 0.8271604938271606.\u001b[0m\n",
      "\u001b[32m[I 2021-06-06 15:41:46,663]\u001b[0m Trial 94 finished with value: 0.8249158249158249 and parameters: {'classifier': 'RandomForest', 'rf_n_estimators': 899, 'rf_max_depth': 9}. Best is trial 21 with value: 0.8271604938271606.\u001b[0m\n",
      "\u001b[32m[I 2021-06-06 15:41:51,295]\u001b[0m Trial 95 finished with value: 0.8249158249158249 and parameters: {'classifier': 'RandomForest', 'rf_n_estimators': 900, 'rf_max_depth': 8}. Best is trial 21 with value: 0.8271604938271606.\u001b[0m\n",
      "\u001b[32m[I 2021-06-06 15:41:55,936]\u001b[0m Trial 96 finished with value: 0.8215488215488215 and parameters: {'classifier': 'RandomForest', 'rf_n_estimators': 891, 'rf_max_depth': 8}. Best is trial 21 with value: 0.8271604938271606.\u001b[0m\n",
      "\u001b[32m[I 2021-06-06 15:42:00,279]\u001b[0m Trial 97 finished with value: 0.8148148148148149 and parameters: {'classifier': 'RandomForest', 'rf_n_estimators': 913, 'rf_max_depth': 5}. Best is trial 21 with value: 0.8271604938271606.\u001b[0m\n",
      "\u001b[32m[I 2021-06-06 15:42:06,590]\u001b[0m Trial 98 finished with value: 0.8237934904601572 and parameters: {'classifier': 'RandomForest', 'rf_n_estimators': 944, 'rf_max_depth': 10}. Best is trial 21 with value: 0.8271604938271606.\u001b[0m\n",
      "\u001b[32m[I 2021-06-06 15:42:08,784]\u001b[0m Trial 99 finished with value: 0.819304152637486 and parameters: {'classifier': 'RandomForest', 'rf_n_estimators': 428, 'rf_max_depth': 6}. Best is trial 21 with value: 0.8271604938271606.\u001b[0m\n"
     ]
    }
   ],
   "source": [
    "#optuna hyper parameter optimization\n",
    "from sklearn import ensemble\n",
    "import optuna\n",
    "from sklearn import model_selection\n",
    "def objective(trial):\n",
    "\n",
    "    classifier_name = trial.suggest_categorical(\"classifier\", [\"RandomForest\"])\n",
    "    \n",
    "    # Step 2. Setup values for the hyperparameters:\n",
    "    if classifier_name == 'LogReg':\n",
    "        logreg_c = trial.suggest_float(\"logreg_c\", 1e-10, 1e10, log=True)\n",
    "        classifier_obj = linear_model.LogisticRegression(C=logreg_c)\n",
    "    else:\n",
    "        rf_n_estimators = trial.suggest_int(\"rf_n_estimators\", 10, 1000)\n",
    "        rf_max_depth = trial.suggest_int(\"rf_max_depth\", 2, 40, log=True)\n",
    "        #rf_minsample_split = trial.suggest_int(\"rf_minsample_split\", 1, 25, log=True)\n",
    "        #rf_minsample_leaf = trial.suggest_int(\"rf_minsample_leaf\", 1, 25, log=True)\n",
    "        #rf_min_impurity = trial.suggest_discrete_uniform('rf_min_impurity', 0.0, 1.0, 0.01)\n",
    "        \n",
    "        classifier_obj = ensemble.RandomForestClassifier(\n",
    "            max_depth=rf_max_depth, n_estimators=rf_n_estimators, #min_samples_split = rf_minsample_split, \n",
    "            #min_samples_leaf = rf_minsample_leaf\n",
    "        )\n",
    "\n",
    "    # Step 3: Scoring method:\n",
    "    score = model_selection.cross_val_score(classifier_obj, X, y, n_jobs=-1, cv=3)\n",
    "    accuracy = score.mean()\n",
    "    #oobscore = classifier_obj.oob_score_\n",
    "    return accuracy\n",
    "\n",
    "# Step 4: Running it\n",
    "study = optuna.create_study(direction=\"maximize\")\n",
    "study.optimize(objective, n_trials=100)"
   ]
  },
  {
   "cell_type": "code",
   "execution_count": 106,
   "metadata": {},
   "outputs": [
    {
     "name": "stdout",
     "output_type": "stream",
     "text": [
      "The best trial is : \n",
      "FrozenTrial(number=21, values=[0.8271604938271606], datetime_start=datetime.datetime(2021, 6, 6, 15, 37, 31, 628312), datetime_complete=datetime.datetime(2021, 6, 6, 15, 37, 34, 436979), params={'classifier': 'RandomForest', 'rf_n_estimators': 662, 'rf_max_depth': 9}, distributions={'classifier': CategoricalDistribution(choices=('RandomForest',)), 'rf_n_estimators': IntUniformDistribution(high=1000, low=10, step=1), 'rf_max_depth': IntLogUniformDistribution(high=40, low=2, step=1)}, user_attrs={}, system_attrs={}, intermediate_values={}, trial_id=21, state=TrialState.COMPLETE, value=None)\n",
      "\n",
      "\n",
      "The best value is : \n",
      "0.8271604938271606\n",
      "\n",
      "\n",
      "The best parameters are : \n",
      "{'classifier': 'RandomForest', 'rf_n_estimators': 662, 'rf_max_depth': 9}\n"
     ]
    }
   ],
   "source": [
    "# Getting the best trial:\n",
    "print(f\"The best trial is : \\n{study.best_trial}\")\n",
    "\n",
    "print('\\n')\n",
    "\n",
    "# Getting the best score:\n",
    "print(f\"The best value is : \\n{study.best_value}\")\n",
    "\n",
    "print('\\n')\n",
    "\n",
    "# Getting the best parameters:\n",
    "print(f\"The best parameters are : \\n{study.best_params}\")"
   ]
  },
  {
   "cell_type": "code",
   "execution_count": 142,
   "metadata": {},
   "outputs": [
    {
     "data": {
      "text/plain": [
       "RandomForestClassifier(max_depth=3, oob_score=True, random_state=2)"
      ]
     },
     "execution_count": 142,
     "metadata": {},
     "output_type": "execute_result"
    }
   ],
   "source": [
    "clf=RandomForestClassifier(n_estimators=100, oob_score = True,random_state=2,max_depth=3)\n",
    "clf.fit(X_train,y_train)"
   ]
  },
  {
   "cell_type": "code",
   "execution_count": 143,
   "metadata": {},
   "outputs": [
    {
     "data": {
      "image/png": "[encoded data removed]",
      "text/plain": [
       "<Figure size 432x288 with 1 Axes>"
      ]
     },
     "metadata": {
      "needs_background": "light"
     },
     "output_type": "display_data"
    }
   ],
   "source": [
    "#feature importance - main random forest code\n",
    "plt.barh(X_train.columns, clf.feature_importances_)\n",
    "plt.show()"
   ]
  },
  {
   "cell_type": "code",
   "execution_count": 144,
   "metadata": {},
   "outputs": [
    {
     "name": "stdout",
     "output_type": "stream",
     "text": [
      "Accuracy Score on train:  0.817966903073286\n",
      "Accuracy Score on oob data:  0.8085106382978723\n"
     ]
    }
   ],
   "source": [
    "#accuracy score for random forest run with Random Search parameters\n",
    "print('Accuracy Score on train: ', clf.score(X_train, y_train))\n",
    "print('Accuracy Score on oob data: ', clf.oob_score_)"
   ]
  },
  {
   "cell_type": "code",
   "execution_count": 145,
   "metadata": {},
   "outputs": [],
   "source": [
    "#prediction y for dev data \n",
    "y_pred_dev=clf.predict(X_dev)"
   ]
  },
  {
   "cell_type": "code",
   "execution_count": 146,
   "metadata": {},
   "outputs": [
    {
     "data": {
      "text/plain": [
       "array([1, 1, 1, 1, 0, 0, 0, 0, 0, 1, 0, 0, 0, 1, 0, 0, 1, 0, 1, 1, 1, 1,\n",
       "       1, 0, 1, 1, 0, 0, 0, 0, 1, 0, 0, 0, 0, 0, 0, 0, 0, 1, 0, 1, 0, 1,\n",
       "       1], dtype=int64)"
      ]
     },
     "execution_count": 146,
     "metadata": {},
     "output_type": "execute_result"
    }
   ],
   "source": [
    "#converts from df to numpy\n",
    "y_dev = y_dev['Survived'].to_numpy()\n",
    "y_dev"
   ]
  },
  {
   "cell_type": "code",
   "execution_count": 147,
   "metadata": {},
   "outputs": [
    {
     "name": "stdout",
     "output_type": "stream",
     "text": [
      "    0   1\n",
      "0  25   1\n",
      "1   5  14\n"
     ]
    },
    {
     "data": {
      "text/plain": [
       "<matplotlib.axes._subplots.AxesSubplot at 0x26591f23d30>"
      ]
     },
     "execution_count": 147,
     "metadata": {},
     "output_type": "execute_result"
    },
    {
     "data": {
      "image/png": "[encoded data removed]",
      "text/plain": [
       "<Figure size 432x288 with 2 Axes>"
      ]
     },
     "metadata": {
      "needs_background": "light"
     },
     "output_type": "display_data"
    }
   ],
   "source": [
    "#creates confusion matrix for dev data\n",
    "confusion_matrix = pd.DataFrame(metrics.confusion_matrix(y_dev, y_pred_dev, labels=[0,1]))\n",
    "print(confusion_matrix)\n",
    "\n",
    "sns.heatmap(confusion_matrix, annot=True)"
   ]
  },
  {
   "cell_type": "code",
   "execution_count": 148,
   "metadata": {},
   "outputs": [
    {
     "name": "stdout",
     "output_type": "stream",
     "text": [
      "accuracy is: 0.8666666666666667\n",
      "precision is: 0.9333333333333333\n",
      "sensitivity is: 0.7368421052631579\n",
      "f1_score is: 0.8235294117647058\n"
     ]
    }
   ],
   "source": [
    "#calculating accuracy and other scores\n",
    "accuracy_dev = metrics.accuracy_score(y_dev, y_pred_dev)\n",
    "print('accuracy is: '+ str(accuracy_dev))\n",
    "precision_dev = metrics.precision_score(y_dev, y_pred_dev)\n",
    "print('precision is: '+ str(precision_dev))\n",
    "sensitivity_dev = metrics.recall_score(y_dev, y_pred_dev)\n",
    "print('sensitivity is: '+ str(sensitivity_dev))\n",
    "f1_score_dev = metrics.f1_score(y_dev, y_pred_dev)\n",
    "print('f1_score is: '+ str(f1_score_dev))"
   ]
  },
  {
   "cell_type": "markdown",
   "metadata": {},
   "source": [
    "## Test pipeline-predicts and creates submission csv"
   ]
  },
  {
   "cell_type": "markdown",
   "metadata": {},
   "source": [
    "### Loading the final test dataset"
   ]
  },
  {
   "cell_type": "code",
   "execution_count": 149,
   "metadata": {},
   "outputs": [
    {
     "name": "stdout",
     "output_type": "stream",
     "text": [
      "(418, 19)\n"
     ]
    },
    {
     "data": {
      "text/html": [
       "<div>\n",
       "<style scoped>\n",
       "    .dataframe tbody tr th:only-of-type {\n",
       "        vertical-align: middle;\n",
       "    }\n",
       "\n",
       "    .dataframe tbody tr th {\n",
       "        vertical-align: top;\n",
       "    }\n",
       "\n",
       "    .dataframe thead th {\n",
       "        text-align: right;\n",
       "    }\n",
       "</style>\n",
       "<table border=\"1\" class=\"dataframe\">\n",
       "  <thead>\n",
       "    <tr style=\"text-align: right;\">\n",
       "      <th></th>\n",
       "      <th>PassengerId</th>\n",
       "      <th>Pclass</th>\n",
       "      <th>Name</th>\n",
       "      <th>Sex</th>\n",
       "      <th>Age</th>\n",
       "      <th>SibSp</th>\n",
       "      <th>Parch</th>\n",
       "      <th>Ticket</th>\n",
       "      <th>Fare</th>\n",
       "      <th>Embarked</th>\n",
       "      <th>tot_fam</th>\n",
       "      <th>female</th>\n",
       "      <th>male</th>\n",
       "      <th>C</th>\n",
       "      <th>Q</th>\n",
       "      <th>S</th>\n",
       "      <th>pclass_1</th>\n",
       "      <th>pclass_2</th>\n",
       "      <th>pclass_3</th>\n",
       "    </tr>\n",
       "  </thead>\n",
       "  <tbody>\n",
       "    <tr>\n",
       "      <th>0</th>\n",
       "      <td>892</td>\n",
       "      <td>3</td>\n",
       "      <td>Kelly, Mr. James</td>\n",
       "      <td>male</td>\n",
       "      <td>34.5</td>\n",
       "      <td>0</td>\n",
       "      <td>0</td>\n",
       "      <td>330911</td>\n",
       "      <td>7.8292</td>\n",
       "      <td>Q</td>\n",
       "      <td>0</td>\n",
       "      <td>0</td>\n",
       "      <td>1</td>\n",
       "      <td>0</td>\n",
       "      <td>1</td>\n",
       "      <td>0</td>\n",
       "      <td>0</td>\n",
       "      <td>0</td>\n",
       "      <td>1</td>\n",
       "    </tr>\n",
       "    <tr>\n",
       "      <th>1</th>\n",
       "      <td>893</td>\n",
       "      <td>3</td>\n",
       "      <td>Wilkes, Mrs. James (Ellen Needs)</td>\n",
       "      <td>female</td>\n",
       "      <td>47.0</td>\n",
       "      <td>1</td>\n",
       "      <td>0</td>\n",
       "      <td>363272</td>\n",
       "      <td>7.0000</td>\n",
       "      <td>S</td>\n",
       "      <td>1</td>\n",
       "      <td>1</td>\n",
       "      <td>0</td>\n",
       "      <td>0</td>\n",
       "      <td>0</td>\n",
       "      <td>1</td>\n",
       "      <td>0</td>\n",
       "      <td>0</td>\n",
       "      <td>1</td>\n",
       "    </tr>\n",
       "    <tr>\n",
       "      <th>2</th>\n",
       "      <td>894</td>\n",
       "      <td>2</td>\n",
       "      <td>Myles, Mr. Thomas Francis</td>\n",
       "      <td>male</td>\n",
       "      <td>62.0</td>\n",
       "      <td>0</td>\n",
       "      <td>0</td>\n",
       "      <td>240276</td>\n",
       "      <td>9.6875</td>\n",
       "      <td>Q</td>\n",
       "      <td>0</td>\n",
       "      <td>0</td>\n",
       "      <td>1</td>\n",
       "      <td>0</td>\n",
       "      <td>1</td>\n",
       "      <td>0</td>\n",
       "      <td>0</td>\n",
       "      <td>1</td>\n",
       "      <td>0</td>\n",
       "    </tr>\n",
       "    <tr>\n",
       "      <th>3</th>\n",
       "      <td>895</td>\n",
       "      <td>3</td>\n",
       "      <td>Wirz, Mr. Albert</td>\n",
       "      <td>male</td>\n",
       "      <td>27.0</td>\n",
       "      <td>0</td>\n",
       "      <td>0</td>\n",
       "      <td>315154</td>\n",
       "      <td>8.6625</td>\n",
       "      <td>S</td>\n",
       "      <td>0</td>\n",
       "      <td>0</td>\n",
       "      <td>1</td>\n",
       "      <td>0</td>\n",
       "      <td>0</td>\n",
       "      <td>1</td>\n",
       "      <td>0</td>\n",
       "      <td>0</td>\n",
       "      <td>1</td>\n",
       "    </tr>\n",
       "    <tr>\n",
       "      <th>4</th>\n",
       "      <td>896</td>\n",
       "      <td>3</td>\n",
       "      <td>Hirvonen, Mrs. Alexander (Helga E Lindqvist)</td>\n",
       "      <td>female</td>\n",
       "      <td>22.0</td>\n",
       "      <td>1</td>\n",
       "      <td>1</td>\n",
       "      <td>3101298</td>\n",
       "      <td>12.2875</td>\n",
       "      <td>S</td>\n",
       "      <td>2</td>\n",
       "      <td>1</td>\n",
       "      <td>0</td>\n",
       "      <td>0</td>\n",
       "      <td>0</td>\n",
       "      <td>1</td>\n",
       "      <td>0</td>\n",
       "      <td>0</td>\n",
       "      <td>1</td>\n",
       "    </tr>\n",
       "  </tbody>\n",
       "</table>\n",
       "</div>"
      ],
      "text/plain": [
       "   PassengerId  Pclass                                          Name     Sex  \\\n",
       "0          892       3                              Kelly, Mr. James    male   \n",
       "1          893       3              Wilkes, Mrs. James (Ellen Needs)  female   \n",
       "2          894       2                     Myles, Mr. Thomas Francis    male   \n",
       "3          895       3                              Wirz, Mr. Albert    male   \n",
       "4          896       3  Hirvonen, Mrs. Alexander (Helga E Lindqvist)  female   \n",
       "\n",
       "    Age  SibSp  Parch   Ticket     Fare Embarked  tot_fam  female  male  C  Q  \\\n",
       "0  34.5      0      0   330911   7.8292        Q        0       0     1  0  1   \n",
       "1  47.0      1      0   363272   7.0000        S        1       1     0  0  0   \n",
       "2  62.0      0      0   240276   9.6875        Q        0       0     1  0  1   \n",
       "3  27.0      0      0   315154   8.6625        S        0       0     1  0  0   \n",
       "4  22.0      1      1  3101298  12.2875        S        2       1     0  0  0   \n",
       "\n",
       "   S  pclass_1  pclass_2  pclass_3  \n",
       "0  0         0         0         1  \n",
       "1  1         0         0         1  \n",
       "2  0         0         1         0  \n",
       "3  1         0         0         1  \n",
       "4  1         0         0         1  "
      ]
     },
     "execution_count": 149,
     "metadata": {},
     "output_type": "execute_result"
    }
   ],
   "source": [
    "#loading test dataset\n",
    "X_test = pd.read_csv(r\"test_datasets/test_clean_full.csv\")\n",
    "print(X_test.shape)\n",
    "X_test.head()"
   ]
  },
  {
   "cell_type": "code",
   "execution_count": 150,
   "metadata": {},
   "outputs": [],
   "source": [
    "#making dummies for interaction effects\n",
    "X_test['fem_1'] = 0\n",
    "X_test.loc[(X_test['female']==1)&(X_test['pclass_1']==1), 'fem_1'] = 1\n",
    "\n",
    "X_test['fem_2'] = 0\n",
    "X_test.loc[(X_test['female']==1)&(X_test['pclass_2']==1), 'fem_2'] = 1\n",
    "\n",
    "X_test['fem_3'] = 0\n",
    "X_test.loc[(X_test['female']==1)&(X_test['pclass_3']==1), 'fem_3'] = 1\n",
    "\n",
    "X_test['male_1'] = 0\n",
    "X_test.loc[(X_test['male']==1)&(X_test['pclass_1']==1), 'male_1'] = 1\n",
    "\n",
    "X_test['male_2'] = 0\n",
    "X_test.loc[(X_test['male']==1)&(X_test['pclass_2']==1), 'male_2'] = 1\n",
    "\n",
    "X_test['male_3'] = 0\n",
    "X_test.loc[(X_test['male']==1)&(X_test['pclass_3']==1), 'male_3'] = 1"
   ]
  },
  {
   "cell_type": "code",
   "execution_count": 151,
   "metadata": {},
   "outputs": [
    {
     "data": {
      "text/html": [
       "<div>\n",
       "<style scoped>\n",
       "    .dataframe tbody tr th:only-of-type {\n",
       "        vertical-align: middle;\n",
       "    }\n",
       "\n",
       "    .dataframe tbody tr th {\n",
       "        vertical-align: top;\n",
       "    }\n",
       "\n",
       "    .dataframe thead th {\n",
       "        text-align: right;\n",
       "    }\n",
       "</style>\n",
       "<table border=\"1\" class=\"dataframe\">\n",
       "  <thead>\n",
       "    <tr style=\"text-align: right;\">\n",
       "      <th></th>\n",
       "      <th>Sex</th>\n",
       "      <th>Pclass</th>\n",
       "      <th>fem_1</th>\n",
       "      <th>fem_2</th>\n",
       "      <th>fem_3</th>\n",
       "      <th>male_1</th>\n",
       "      <th>male_2</th>\n",
       "      <th>male_3</th>\n",
       "    </tr>\n",
       "  </thead>\n",
       "  <tbody>\n",
       "    <tr>\n",
       "      <th>0</th>\n",
       "      <td>male</td>\n",
       "      <td>3</td>\n",
       "      <td>0</td>\n",
       "      <td>0</td>\n",
       "      <td>0</td>\n",
       "      <td>0</td>\n",
       "      <td>0</td>\n",
       "      <td>1</td>\n",
       "    </tr>\n",
       "    <tr>\n",
       "      <th>1</th>\n",
       "      <td>female</td>\n",
       "      <td>3</td>\n",
       "      <td>0</td>\n",
       "      <td>0</td>\n",
       "      <td>1</td>\n",
       "      <td>0</td>\n",
       "      <td>0</td>\n",
       "      <td>0</td>\n",
       "    </tr>\n",
       "    <tr>\n",
       "      <th>2</th>\n",
       "      <td>male</td>\n",
       "      <td>2</td>\n",
       "      <td>0</td>\n",
       "      <td>0</td>\n",
       "      <td>0</td>\n",
       "      <td>0</td>\n",
       "      <td>1</td>\n",
       "      <td>0</td>\n",
       "    </tr>\n",
       "    <tr>\n",
       "      <th>3</th>\n",
       "      <td>male</td>\n",
       "      <td>3</td>\n",
       "      <td>0</td>\n",
       "      <td>0</td>\n",
       "      <td>0</td>\n",
       "      <td>0</td>\n",
       "      <td>0</td>\n",
       "      <td>1</td>\n",
       "    </tr>\n",
       "    <tr>\n",
       "      <th>4</th>\n",
       "      <td>female</td>\n",
       "      <td>3</td>\n",
       "      <td>0</td>\n",
       "      <td>0</td>\n",
       "      <td>1</td>\n",
       "      <td>0</td>\n",
       "      <td>0</td>\n",
       "      <td>0</td>\n",
       "    </tr>\n",
       "  </tbody>\n",
       "</table>\n",
       "</div>"
      ],
      "text/plain": [
       "      Sex  Pclass  fem_1  fem_2  fem_3  male_1  male_2  male_3\n",
       "0    male       3      0      0      0       0       0       1\n",
       "1  female       3      0      0      1       0       0       0\n",
       "2    male       2      0      0      0       0       1       0\n",
       "3    male       3      0      0      0       0       0       1\n",
       "4  female       3      0      0      1       0       0       0"
      ]
     },
     "execution_count": 151,
     "metadata": {},
     "output_type": "execute_result"
    }
   ],
   "source": [
    "#QC\n",
    "X_test[['Sex', 'Pclass', 'fem_1', 'fem_2', 'fem_3', 'male_1', 'male_2', 'male_3']].head()\n",
    "#pass"
   ]
  },
  {
   "cell_type": "code",
   "execution_count": 152,
   "metadata": {},
   "outputs": [
    {
     "name": "stdout",
     "output_type": "stream",
     "text": [
      "(418, 26)\n"
     ]
    },
    {
     "data": {
      "text/html": [
       "<div>\n",
       "<style scoped>\n",
       "    .dataframe tbody tr th:only-of-type {\n",
       "        vertical-align: middle;\n",
       "    }\n",
       "\n",
       "    .dataframe tbody tr th {\n",
       "        vertical-align: top;\n",
       "    }\n",
       "\n",
       "    .dataframe thead th {\n",
       "        text-align: right;\n",
       "    }\n",
       "</style>\n",
       "<table border=\"1\" class=\"dataframe\">\n",
       "  <thead>\n",
       "    <tr style=\"text-align: right;\">\n",
       "      <th></th>\n",
       "      <th>PassengerId</th>\n",
       "      <th>Pclass</th>\n",
       "      <th>Name</th>\n",
       "      <th>Sex</th>\n",
       "      <th>Age</th>\n",
       "      <th>SibSp</th>\n",
       "      <th>Parch</th>\n",
       "      <th>Ticket</th>\n",
       "      <th>Fare</th>\n",
       "      <th>Embarked</th>\n",
       "      <th>...</th>\n",
       "      <th>pclass_1</th>\n",
       "      <th>pclass_2</th>\n",
       "      <th>pclass_3</th>\n",
       "      <th>fem_1</th>\n",
       "      <th>fem_2</th>\n",
       "      <th>fem_3</th>\n",
       "      <th>male_1</th>\n",
       "      <th>male_2</th>\n",
       "      <th>male_3</th>\n",
       "      <th>interaction_QC</th>\n",
       "    </tr>\n",
       "  </thead>\n",
       "  <tbody>\n",
       "  </tbody>\n",
       "</table>\n",
       "<p>0 rows × 26 columns</p>\n",
       "</div>"
      ],
      "text/plain": [
       "Empty DataFrame\n",
       "Columns: [PassengerId, Pclass, Name, Sex, Age, SibSp, Parch, Ticket, Fare, Embarked, tot_fam, female, male, C, Q, S, pclass_1, pclass_2, pclass_3, fem_1, fem_2, fem_3, male_1, male_2, male_3, interaction_QC]\n",
       "Index: []\n",
       "\n",
       "[0 rows x 26 columns]"
      ]
     },
     "execution_count": 152,
     "metadata": {},
     "output_type": "execute_result"
    }
   ],
   "source": [
    "#QC\n",
    "X_test['interaction_QC']=X_test['fem_1'] + X_test['fem_2'] + X_test['fem_3'] + X_test['male_1'] + X_test['male_2'] + X_test['male_3']\n",
    "print(X_test[X_test['interaction_QC']==1].shape)\n",
    "X_test[X_test['interaction_QC']!=1].head()\n",
    "#pass"
   ]
  },
  {
   "cell_type": "code",
   "execution_count": 153,
   "metadata": {},
   "outputs": [
    {
     "name": "stdout",
     "output_type": "stream",
     "text": [
      "(418, 16)\n",
      "(891, 16)\n"
     ]
    }
   ],
   "source": [
    "#breaking down into X and y arrays, removing categorical vars - these vars(except Name) have already been made into booleans: train\n",
    "X_test = X_test.drop(['Name','Sex','Ticket','Embarked','Pclass','male','Parch', 'SibSp','PassengerId','interaction_QC'], axis = 1)\n",
    "print(X_test.shape)\n",
    "print(X.shape)\n",
    "#X.head()"
   ]
  },
  {
   "cell_type": "code",
   "execution_count": 154,
   "metadata": {},
   "outputs": [
    {
     "name": "stdout",
     "output_type": "stream",
     "text": [
      "Index(['Age', 'Fare', 'tot_fam', 'female', 'C', 'Q', 'S', 'pclass_1',\n",
      "       'pclass_2', 'pclass_3', 'fem_1', 'fem_2', 'fem_3', 'male_1', 'male_2',\n",
      "       'male_3'],\n",
      "      dtype='object')\n",
      "Index(['Age', 'Fare', 'tot_fam', 'female', 'C', 'Q', 'S', 'pclass_1',\n",
      "       'pclass_2', 'pclass_3', 'fem_1', 'fem_2', 'fem_3', 'male_1', 'male_2',\n",
      "       'male_3'],\n",
      "      dtype='object')\n"
     ]
    }
   ],
   "source": [
    "print(X_train.columns)\n",
    "print(X_test.columns)"
   ]
  },
  {
   "cell_type": "markdown",
   "metadata": {},
   "source": [
    "### Predicting on the amended test dataset and preparing the file for submission"
   ]
  },
  {
   "cell_type": "code",
   "execution_count": 155,
   "metadata": {},
   "outputs": [],
   "source": [
    "#prediction y for dev data \n",
    "y_pred_test=clf.predict(X_test)"
   ]
  },
  {
   "cell_type": "code",
   "execution_count": 156,
   "metadata": {},
   "outputs": [
    {
     "data": {
      "text/plain": [
       "(418, 2)"
      ]
     },
     "execution_count": 156,
     "metadata": {},
     "output_type": "execute_result"
    }
   ],
   "source": [
    "#reading a submission csv and then using it's passenger id\n",
    "pid_array = pd.read_csv(r'submission\\csv_submission20210529230942.csv')\n",
    "pid_array.shape\n",
    "#pid_array.head()"
   ]
  },
  {
   "cell_type": "code",
   "execution_count": 157,
   "metadata": {},
   "outputs": [
    {
     "data": {
      "text/html": [
       "<div>\n",
       "<style scoped>\n",
       "    .dataframe tbody tr th:only-of-type {\n",
       "        vertical-align: middle;\n",
       "    }\n",
       "\n",
       "    .dataframe tbody tr th {\n",
       "        vertical-align: top;\n",
       "    }\n",
       "\n",
       "    .dataframe thead th {\n",
       "        text-align: right;\n",
       "    }\n",
       "</style>\n",
       "<table border=\"1\" class=\"dataframe\">\n",
       "  <thead>\n",
       "    <tr style=\"text-align: right;\">\n",
       "      <th></th>\n",
       "      <th>PassengerId</th>\n",
       "    </tr>\n",
       "  </thead>\n",
       "  <tbody>\n",
       "    <tr>\n",
       "      <th>0</th>\n",
       "      <td>892</td>\n",
       "    </tr>\n",
       "    <tr>\n",
       "      <th>1</th>\n",
       "      <td>893</td>\n",
       "    </tr>\n",
       "    <tr>\n",
       "      <th>2</th>\n",
       "      <td>894</td>\n",
       "    </tr>\n",
       "    <tr>\n",
       "      <th>3</th>\n",
       "      <td>895</td>\n",
       "    </tr>\n",
       "    <tr>\n",
       "      <th>4</th>\n",
       "      <td>896</td>\n",
       "    </tr>\n",
       "  </tbody>\n",
       "</table>\n",
       "</div>"
      ],
      "text/plain": [
       "   PassengerId\n",
       "0          892\n",
       "1          893\n",
       "2          894\n",
       "3          895\n",
       "4          896"
      ]
     },
     "execution_count": 157,
     "metadata": {},
     "output_type": "execute_result"
    }
   ],
   "source": [
    "#subsetting only the Passenger Id column for final submission \n",
    "X_concat = pid_array[['PassengerId']]\n",
    "X_concat.head()"
   ]
  },
  {
   "cell_type": "code",
   "execution_count": 158,
   "metadata": {},
   "outputs": [
    {
     "name": "stdout",
     "output_type": "stream",
     "text": [
      "(418, 2)\n"
     ]
    },
    {
     "data": {
      "text/html": [
       "<div>\n",
       "<style scoped>\n",
       "    .dataframe tbody tr th:only-of-type {\n",
       "        vertical-align: middle;\n",
       "    }\n",
       "\n",
       "    .dataframe tbody tr th {\n",
       "        vertical-align: top;\n",
       "    }\n",
       "\n",
       "    .dataframe thead th {\n",
       "        text-align: right;\n",
       "    }\n",
       "</style>\n",
       "<table border=\"1\" class=\"dataframe\">\n",
       "  <thead>\n",
       "    <tr style=\"text-align: right;\">\n",
       "      <th></th>\n",
       "      <th>PassengerId</th>\n",
       "      <th>Survived</th>\n",
       "    </tr>\n",
       "  </thead>\n",
       "  <tbody>\n",
       "    <tr>\n",
       "      <th>0</th>\n",
       "      <td>892</td>\n",
       "      <td>0</td>\n",
       "    </tr>\n",
       "    <tr>\n",
       "      <th>1</th>\n",
       "      <td>893</td>\n",
       "      <td>0</td>\n",
       "    </tr>\n",
       "    <tr>\n",
       "      <th>2</th>\n",
       "      <td>894</td>\n",
       "      <td>0</td>\n",
       "    </tr>\n",
       "    <tr>\n",
       "      <th>3</th>\n",
       "      <td>895</td>\n",
       "      <td>0</td>\n",
       "    </tr>\n",
       "    <tr>\n",
       "      <th>4</th>\n",
       "      <td>896</td>\n",
       "      <td>1</td>\n",
       "    </tr>\n",
       "  </tbody>\n",
       "</table>\n",
       "</div>"
      ],
      "text/plain": [
       "   PassengerId  Survived\n",
       "0          892         0\n",
       "1          893         0\n",
       "2          894         0\n",
       "3          895         0\n",
       "4          896         1"
      ]
     },
     "execution_count": 158,
     "metadata": {},
     "output_type": "execute_result"
    }
   ],
   "source": [
    "#creating final submission csv\n",
    "y_pred_test_df = pd.DataFrame(y_pred_test)\n",
    "y_pred_test_df.rename(columns = {0:'Survived'},inplace = True)\n",
    "csv_submission = pd.merge(X_concat,y_pred_test_df, left_index=True, right_index=True)\n",
    "print(csv_submission.shape)\n",
    "csv_submission.head()"
   ]
  },
  {
   "cell_type": "code",
   "execution_count": 159,
   "metadata": {},
   "outputs": [],
   "source": [
    "#saving csv with a unique timestamp\n",
    "timestamp = str(datetime.datetime.now().strftime('%Y%m%d%H%M%S'))\n",
    "timestamp\n",
    "csv_submission.to_csv(r'submission\\csv_submission' + timestamp + '.csv', index =False)"
   ]
  },
  {
   "cell_type": "code",
   "execution_count": null,
   "metadata": {},
   "outputs": [],
   "source": []
  }
 ],
 "metadata": {
  "kernelspec": {
   "display_name": "Python 3",
   "language": "python",
   "name": "python3"
  },
  "language_info": {
   "codemirror_mode": {
    "name": "ipython",
    "version": 3
   },
   "file_extension": ".py",
   "mimetype": "text/x-python",
   "name": "python",
   "nbconvert_exporter": "python",
   "pygments_lexer": "ipython3",
   "version": "3.7.1"
  }
 },
 "nbformat": 4,
 "nbformat_minor": 4
}
